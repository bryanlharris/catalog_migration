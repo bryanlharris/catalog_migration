{
  "cells": [
    {
      "cell_type": "markdown",
      "id": "4582bb4f",
      "metadata": {},
      "source": [
        "# Move Volumes Between Catalogs\n",
        "This notebook reads all **external** volumes from a source catalog and generates\n",
        "SQL commands to drop those volumes from the source catalog and recreate them\n",
        "in a destination catalog with the same schema and location. Managed volumes\n",
        "are ignored.\n"
      ]
    },
    {
      "cell_type": "code",
      "execution_count": null,
      "id": "263ad6b9",
      "metadata": {},
      "outputs": [],
      "source": [
        "\n",
        "%md\n",
        "## Configure Source and Destination Catalogs\n"
      ]
    },
    {
      "cell_type": "code",
      "execution_count": null,
      "id": "33ca3502",
      "metadata": {},
      "outputs": [],
      "source": [
        "\n",
        "# Create widgets for user input\n",
        "try:\n",
        "    dbutils.widgets.text(\"1.source_catalog\", \"source_catalog\")\n",
        "    dbutils.widgets.text(\"2.destination_catalog\", \"destination_catalog\")\n",
        "    source_catalog = dbutils.widgets.get(\"1.source_catalog\")\n",
        "    destination_catalog = dbutils.widgets.get(\"2.destination_catalog\")\n",
        "except NameError:\n",
        "    # When running as a standard Python script (e.g., for testing), define values here\n",
        "    source_catalog = \"source_catalog\"\n",
        "    destination_catalog = \"destination_catalog\"\n"
      ]
    },
    {
      "cell_type": "code",
      "execution_count": null,
      "id": "65b8e59e",
      "metadata": {},
      "outputs": [],
      "source": [
        "\n",
        "%md\n",
        "## Read Volumes From the Source Catalog\n"
      ]
    },
    {
      "cell_type": "code",
      "execution_count": null,
      "id": "53df2027",
      "metadata": {},
      "outputs": [],
      "source": [
        "\n",
        "query = f\"\"\"\n",
        "SELECT volume_catalog, volume_schema, volume_name, storage_location\n",
        "FROM system.information_schema.volumes\n",
        "WHERE volume_catalog = '{source_catalog}'\n",
        "  AND volume_type = 'EXTERNAL'\n",
        "\"\"\"\n",
        "\n",
        "volumes_df = spark.sql(query)\n",
        "volumes = [\n",
        "    {\n",
        "        \"catalog\": row[\"volume_catalog\"],\n",
        "        \"schema\": row[\"volume_schema\"],\n",
        "        \"name\": row[\"volume_name\"],\n",
        "        \"location\": row[\"storage_location\"],\n",
        "    }\n",
        "    for row in volumes_df.collect()\n",
        "]\n"
      ]
    },
    {
      "cell_type": "code",
      "execution_count": null,
      "id": "ce6e6dc5",
      "metadata": {},
      "outputs": [],
      "source": [
        "\n",
        "%md\n",
        "## Generate SQL Commands\n"
      ]
    },
    {
      "cell_type": "code",
      "execution_count": null,
      "id": "3029c2cc",
      "metadata": {},
      "outputs": [],
      "source": [
        "\n",
        "unmount_cmds = []\n",
        "mount_cmds = []\n",
        "for v in volumes:\n",
        "    unmount_cmds.append(\n",
        "        f\"DROP VOLUME IF EXISTS `{v['catalog']}`.`{v['schema']}`.`{v['name']}`;\"\n",
        "    )\n",
        "    mount_cmds.append(\n",
        "        f\"\"\"CREATE SCHEMA IF NOT EXISTS `{destination_catalog}`.`{v['schema']}`;\n",
        "CREATE EXTERNAL VOLUME `{destination_catalog}`.`{v['schema']}`.`{v['name']}` LOCATION '{v['location']}';\"\"\"\n",
        "    )\n"
      ]
    },
    {
      "cell_type": "code",
      "execution_count": null,
      "id": "4e29b029",
      "metadata": {},
      "outputs": [],
      "source": [
        "\n",
        "%md\n",
        "## Display Commands\n"
      ]
    },
    {
      "cell_type": "code",
      "execution_count": null,
      "id": "da3ddaf8",
      "metadata": {},
      "outputs": [],
      "source": [
        "\n",
        "print(\"-- Commands to drop volumes from the source catalog --\")\n",
        "for cmd in unmount_cmds:\n",
        "    print(cmd)\n",
        "\n",
        "print(\"\\n-- Commands to recreate volumes in the destination catalog --\")\n",
        "for cmd in mount_cmds:\n",
        "    print(cmd)"
      ]
    }
  ],
  "metadata": {
    "application/vnd.databricks.v1+notebook": {
      "environmentMetadata": {
        "environment_version": "3"
      }
    }
  },
  "nbformat": 4,
  "nbformat_minor": 5
}