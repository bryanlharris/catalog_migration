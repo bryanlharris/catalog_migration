{
  "cells": [
    {
      "cell_type": "markdown",
      "metadata": {},
      "source": [
        "# Catalog Table Sizes\n",
        "This notebook lists the total size of every table in a selected catalog and schema using [DiscoverX](https://github.com/databrickslabs/discoverx).\n",
        "\n",
        "Use the widgets below to select a catalog and schema, then run the remaining cells."
      ]
    },
    {
      "cell_type": "code",
      "execution_count": null,
      "metadata": {},
      "outputs": [],
      "source": [
        "%pip install dbl-discoverx\n",
        "dbutils.library.restartPython()"
      ]
    },
    {
      "cell_type": "code",
      "execution_count": null,
      "metadata": {},
      "outputs": [],
      "source": [
        "# Create widgets for catalog and schema\n",
        "catalogs = [row.catalog for row in spark.sql(\"SHOW CATALOGS\").collect()]\n",
        "dbutils.widgets.combobox(\"1.catalog\", catalogs[0] if catalogs else \"\", catalogs)\n",
        "catalog = dbutils.widgets.get(\"1.catalog\")\n",
        "\n",
        "schemas_df = spark.sql(f\"SHOW SCHEMAS IN `{catalog}`\")\n",
        "schemas = [row[0] for row in schemas_df.collect() if row[0].lower() not in (\"information_schema\",)]\n",
        "dbutils.widgets.combobox(\"2.schema\", schemas[0] if schemas else \"\", schemas)\n",
        "schema = dbutils.widgets.get(\"2.schema\")"
      ]
    },
    {
      "cell_type": "code",
      "execution_count": null,
      "metadata": {},
      "outputs": [],
      "source": [
        "from discoverx import DX\n",
        "\n",
        "dx = DX()\n",
        "\n",
        "def human_size(size_bytes):\n",
        "    for unit in ['B','KB','MB','GB','TB','PB','EB']:\n",
        "        if size_bytes < 1024 or unit == 'EB':\n",
        "            return f\"{size_bytes:.2f} {unit}\"\n",
        "        size_bytes /= 1024\n",
        "\n",
        "def table_size(tbl):\n",
        "    qname = f\"`{tbl.catalog}`.`{tbl.schema}`.`{tbl.table}`\"\n",
        "    df = spark.sql(f\"DESCRIBE DETAIL {qname}\")\n",
        "    size = df.select('sizeInBytes').collect()[0][0]\n",
        "    readable = human_size(size)\n",
        "    print(f'{tbl.catalog}.{tbl.schema}.{tbl.table}: {readable}')\n",
        "    return {\"table\": f\"{tbl.catalog}.{tbl.schema}.{tbl.table}\", \"size\": readable}\n",
        "\n",
        "results = dx.from_tables(f\"{catalog}.{schema}.*\").map(table_size)\n",
        "\n",
        "import json\n",
        "for r in results:\n",
        "    print(json.dumps(r, indent=4))"
      ]
    }
  ],
  "metadata": {
    "application/vnd.databricks.v1+notebook": {
      "environmentMetadata": {
        "environment_version": "3"
      }
    }
  },
  "nbformat": 4,
  "nbformat_minor": 5
}