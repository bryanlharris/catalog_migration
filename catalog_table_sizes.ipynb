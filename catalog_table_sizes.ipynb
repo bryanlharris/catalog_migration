{
 "cells": [
  {
   "cell_type": "markdown",
   "metadata": {
    "application/vnd.databricks.v1+cell": {
     "cellMetadata": {},
     "inputWidgets": {},
     "nuid": "3f78daae-48a6-4008-942b-797b08b48d5b",
     "showTitle": false,
     "tableResultSettingsMap": {},
     "title": ""
    }
   },
   "source": [
    "# Catalog Table Sizes\n",
    "This notebook lists the total size of every table across all schemas in a selected catalog using [DiscoverX](https://github.com/databrickslabs/discoverx).\n",
    "\n",
    "Use the widget below to select one or more catalogs, then run the remaining cells."
   ]
  },
  {
   "cell_type": "code",
   "execution_count": 0,
   "metadata": {
    "application/vnd.databricks.v1+cell": {
     "cellMetadata": {
      "byteLimit": 2048000,
      "rowLimit": 10000
     },
     "collapsed": true,
     "inputWidgets": {},
     "nuid": "61676e63-a607-432d-a8ac-6cbe4a7d9532",
     "showTitle": false,
     "tableResultSettingsMap": {},
     "title": ""
    }
   },
   "outputs": [],
   "source": [
    "%pip install dbl-discoverx\n",
    "dbutils.library.restartPython()"
   ]
  },
  {
   "cell_type": "code",
   "execution_count": 0,
   "metadata": {
    "application/vnd.databricks.v1+cell": {
     "cellMetadata": {
      "byteLimit": 2048000,
      "rowLimit": 10000
     },
     "inputWidgets": {},
     "nuid": "146c5177-b2ed-444d-afce-a448d6b35ddf",
     "showTitle": false,
     "tableResultSettingsMap": {},
     "title": ""
    }
   },
   "outputs": [],
   "source": [
    "# Create widgets for catalogs\n",
    "catalogs = [row.catalog for row in spark.sql(\"SHOW CATALOGS\").collect()]\n",
    "catalogs.append(\"None Selected\")\n",
    "dbutils.widgets.multiselect(\"1.catalogs\", \"None Selected\", catalogs)\n",
    "\n",
    "dbutils.widgets.text(\"2.target_table\", \"\", label=\"Target table (catalog.schema.table)\")\n",
    "dbutils.widgets.dropdown(\"2.write_mode\", \"overwrite\", [\"overwrite\", \"append\"], label=\"Write mode\")\n"
   ]
  },
  {
   "cell_type": "code",
   "execution_count": 0,
   "metadata": {
    "application/vnd.databricks.v1+cell": {
     "cellMetadata": {
      "byteLimit": 2048000,
      "rowLimit": 10000
     },
     "inputWidgets": {},
     "nuid": "64f932d5-9be8-421d-adb0-eda09c6eddb7",
     "showTitle": false,
     "tableResultSettingsMap": {},
     "title": ""
    }
   },
   "outputs": [],
   "source": [
    "catalog_list = [c for c in dbutils.widgets.get(\"1.catalogs\").split(',') if c]"
   ]
  },
  {
   "cell_type": "code",
   "execution_count": 0,
   "metadata": {
    "application/vnd.databricks.v1+cell": {
     "cellMetadata": {
      "byteLimit": 2048000,
      "rowLimit": 10000
     },
     "inputWidgets": {},
     "nuid": "2a57d842-03a0-47f8-b8ec-c8598979ce90",
     "showTitle": false,
     "tableResultSettingsMap": {},
     "title": ""
    }
   },
   "outputs": [],
   "source": [
    "from pyspark.sql import Row\n",
    "from discoverx import DX\n",
    "\n",
    "dx = DX()\n",
    "\n",
    "def human_size(size_bytes):\n",
    "    for unit in ['B','KB','MB','GB','TB','PB','EB']:\n",
    "        if size_bytes < 1024 or unit == 'EB':\n",
    "            return f\"{size_bytes:.2f} {unit}\"\n",
    "        size_bytes /= 1024\n",
    "\n",
    "def table_size(tbl):\n",
    "    qname = f\"`{tbl.catalog}`.`{tbl.schema}`.`{tbl.table}`\"\n",
    "    df = spark.sql(f\"DESCRIBE DETAIL {qname}\")\n",
    "    size = df.select('sizeInBytes').collect()[0][0]\n",
    "    return {\n",
    "        'table': f\"{tbl.catalog}.{tbl.schema}.{tbl.table}\",\n",
    "        'size': size,\n",
    "        'size_human': human_size(size)\n",
    "    }\n",
    "\n",
    "results = []\n",
    "for cat in catalog_list:\n",
    "    results.extend(dx.from_tables(f'{cat}.*.*').map(table_size))\n",
    "df = spark.createDataFrame(results)\n",
    "\n",
    "# Add total row for all tables\n",
    "total_size = df.agg({'size': 'sum'}).collect()[0][0]\n",
    "df = df.union(spark.createDataFrame([Row(size=total_size, size_human=human_size(total_size), table='ALL_TABLES')]))\n",
    "target_table = dbutils.widgets.get(\"2.target_table\").strip()\n",
    "write_mode = dbutils.widgets.get(\"2.write_mode\")\n",
    "\n",
    "if target_table:\n",
    "    (df\n",
    "     .write\n",
    "     .mode(write_mode)\n",
    "     .option(\"overwriteSchema\", \"true\")\n",
    "     .saveAsTable(target_table)\n",
    "     )\n",
    "\n",
    "display(df)"
   ]
  },
  {
   "cell_type": "code",
   "execution_count": null,
   "id": "e388bbbb",
   "metadata": {},
   "outputs": [],
   "source": [
    "from pyspark.sql import functions as F\n",
    "\n",
    "# Aggregate table sizes to the schema level\n",
    "schema_sizes = (\n",
    "    df.filter(F.col(\"table\") != \"ALL_TABLES\")\n",
    "      .withColumn(\"catalog\", F.split(\"table\", \\\"\\\\.\\\\\").getItem(0))\n",
    "      .withColumn(\"schema\", F.split(\"table\", \\\"\\\\.\\\\\").getItem(1))\n",
    "      .groupBy(\"catalog\", \"schema\")\n",
    "      .agg(F.sum(\"size\").alias(\"size\"))\n",
    ")\n",
    "\n",
    "schema_sizes.createOrReplaceTempView(\"schema_sizes\")\n",
    "\n",
    "# Use ai_similarity to build a graph where every edge represents two schemas\n",
    "# whose names are similar enough to belong to the same dataset. The\n",
    "# connected components of this graph capture groups of any size (2 or more)\n",
    "# so a schema can be linked indirectly through intermediate matches.\n",
    "similar_pairs = (\n",
    "    spark.sql(\n",
    "        \"\"\"\n",
    "        SELECT\n",
    "            a.catalog AS catalog_a,\n",
    "            a.schema AS schema_a,\n",
    "            b.catalog AS catalog_b,\n",
    "            b.schema AS schema_b,\n",
    "            ai_similarity(a.schema, b.schema) AS similarity\n",
    "        FROM schema_sizes a\n",
    "        CROSS JOIN schema_sizes b\n",
    "        WHERE a.schema <= b.schema\n",
    "        \"\"\"\n",
    "    )\n",
    "    .filter(F.col(\"similarity\") >= 0.7)\n",
    "    .select(\"catalog_a\", \"schema_a\", \"catalog_b\", \"schema_b\")\n",
    ")\n",
    "\n",
    "pairs = [\n",
    "    (f\"{row.catalog_a}.{row.schema_a}\", f\"{row.catalog_b}.{row.schema_b}\")\n",
    "    for row in similar_pairs.collect()\n",
    "]\n",
    "\n",
    "schema_rows = schema_sizes.select(\"catalog\", \"schema\").collect()\n",
    "nodes = [f\"{row.catalog}.{row.schema}\" for row in schema_rows]\n",
    "\n",
    "parents = {node: node for node in nodes}\n",
    "\n",
    "def find(node):\n",
    "    while parents[node] != node:\n",
    "        parents[node] = parents[parents[node]]\n",
    "        node = parents[node]\n",
    "    return node\n",
    "\n",
    "\n",
    "def union(a, b):\n",
    "    root_a, root_b = find(a), find(b)\n",
    "    if root_a == root_b:\n",
    "        return\n",
    "    if root_a < root_b:\n",
    "        parents[root_b] = root_a\n",
    "    else:\n",
    "        parents[root_a] = root_b\n",
    "\n",
    "\n",
    "for a, b in pairs:\n",
    "    union(a, b)\n",
    "\n",
    "clusters = {}\n",
    "for node in nodes:\n",
    "    root = find(node)\n",
    "    clusters.setdefault(root, []).append(node)\n",
    "\n",
    "dataset_rows = []\n",
    "for members in clusters.values():\n",
    "    members.sort()\n",
    "    schema_names = [m.split(\".\", 1)[1] for m in members]\n",
    "    if len(schema_names) == 1:\n",
    "        label = schema_names[0]\n",
    "    else:\n",
    "        label = f\"{schema_names[0]} (+{len(schema_names) - 1} more)\"\n",
    "    for member in members:\n",
    "        catalog, schema = member.split(\".\", 1)\n",
    "        dataset_rows.append((catalog, schema, label))\n",
    "\n",
    "dataset_assignments = spark.createDataFrame(dataset_rows, [\"catalog\", \"schema\", \"dataset\"])\n",
    "\n",
    "human_size_udf = F.udf(human_size)\n",
    "\n",
    "dataset_totals = (\n",
    "    schema_sizes.join(dataset_assignments, [\"catalog\", \"schema\"], \"inner\")\n",
    "                .groupBy(\"dataset\")\n",
    "                .agg(F.sum(\"size\").alias(\"size\"))\n",
    "                .withColumn(\"size_human\", human_size_udf(\"size\"))\n",
    "                .orderBy(F.desc(\"size\"))\n",
    ")\n",
    "\n",
    "display(dataset_totals.select(\"dataset\", \"size\", \"size_human\"))\n"
   ]
  }
 ],
 "metadata": {
  "application/vnd.databricks.v1+notebook": {
   "computePreferences": {
    "hardware": {
     "accelerator": null,
     "gpuPoolId": null,
     "memory": null
    }
   },
   "dashboards": [],
   "environmentMetadata": {
    "base_environment": "",
    "environment_version": "3"
   },
   "inputWidgetPreferences": null,
   "language": "python",
   "notebookMetadata": {
    "pythonIndentUnit": 4
   },
   "notebookName": "catalog_table_sizes",
   "widgets": {}
  },
  "language_info": {
   "name": "python"
  }
 },
 "nbformat": 4,
 "nbformat_minor": 0
}