{
 "cells": [
  {
   "cell_type": "markdown",
   "metadata": {
    "application/vnd.databricks.v1+cell": {
     "cellMetadata": {},
     "inputWidgets": {},
     "nuid": "3f78daae-48a6-4008-942b-797b08b48d5b",
     "showTitle": false,
     "tableResultSettingsMap": {},
     "title": ""
    }
   },
   "source": [
    "# Catalog Table Sizes\n",
    "This notebook lists the total size of every table in a selected catalog and schema using [DiscoverX](https://github.com/databrickslabs/discoverx).\n",
    "\n",
    "Use the widgets below to select a catalog and schema, then run the remaining cells."
   ]
  },
  {
   "cell_type": "code",
   "execution_count": 0,
   "metadata": {
    "application/vnd.databricks.v1+cell": {
     "cellMetadata": {
      "byteLimit": 2048000,
      "rowLimit": 10000
     },
     "collapsed": true,
     "inputWidgets": {},
     "nuid": "61676e63-a607-432d-a8ac-6cbe4a7d9532",
     "showTitle": false,
     "tableResultSettingsMap": {},
     "title": ""
    }
   },
   "outputs": [],
   "source": [
    "%pip install dbl-discoverx\n",
    "dbutils.library.restartPython()"
   ]
  },
  {
   "cell_type": "code",
   "execution_count": 0,
   "metadata": {
    "application/vnd.databricks.v1+cell": {
     "cellMetadata": {
      "byteLimit": 2048000,
      "rowLimit": 10000
     },
     "inputWidgets": {},
     "nuid": "146c5177-b2ed-444d-afce-a448d6b35ddf",
     "showTitle": false,
     "tableResultSettingsMap": {},
     "title": ""
    }
   },
   "outputs": [],
   "source": [
    "# Create widgets for catalog and schema\n",
    "catalogs = [row.catalog for row in spark.sql(\"SHOW CATALOGS\").collect()]\n",
    "catalogs.append(\"None Selected\")\n",
    "dbutils.widgets.combobox(\"1.catalog\", \"None Selected\", catalogs)\n",
    "catalog = dbutils.widgets.get(\"1.catalog\")"
   ]
  },
  {
   "cell_type": "code",
   "execution_count": 0,
   "metadata": {
    "application/vnd.databricks.v1+cell": {
     "cellMetadata": {},
     "inputWidgets": {},
     "nuid": "2a57d842-03a0-47f8-b8ec-c8598979ce90",
     "showTitle": false,
     "tableResultSettingsMap": {},
     "title": ""
    }
   },
   "outputs": [],
   "source": [
    "from discoverx import DX\n",
    "\n",
    "dx = DX()\n",
    "\n",
    "def human_size(size_bytes):\n",
    "    for unit in ['B','KB','MB','GB','TB','PB','EB']:\n",
    "        if size_bytes < 1024 or unit == 'EB':\n",
    "            return f\"{size_bytes:.2f} {unit}\"\n",
    "        size_bytes /= 1024\n",
    "\n",
    "def table_size(tbl):\n",
    "    qname = f\"`{tbl.catalog}`.`{tbl.schema}`.`{tbl.table}`\"\n",
    "    df = spark.sql(f\"DESCRIBE DETAIL {qname}\")\n",
    "    size = df.select('sizeInBytes').collect()[0][0]\n",
    "    readable = human_size(size)\n",
    "    print(f'{tbl.catalog}.{tbl.schema}.{tbl.table}: {readable}')\n",
    "    return {\"table\": f\"{tbl.catalog}.{tbl.schema}.{tbl.table}\", \"size\": readable}\n",
    "\n",
    "results = dx.from_tables(f\"{catalog}.{schema}.*\").map(table_size)\n",
    "\n",
    "import json\n",
    "for r in results:\n",
    "    print(json.dumps(r, indent=4))"
   ]
  }
 ],
 "metadata": {
  "application/vnd.databricks.v1+notebook": {
   "computePreferences": null,
   "dashboards": [],
   "environmentMetadata": {
    "environment_version": "3"
   },
   "inputWidgetPreferences": null,
   "language": "python",
   "notebookMetadata": {
    "pythonIndentUnit": 4
   },
   "notebookName": "catalog_table_sizes",
   "widgets": {}
  },
  "language_info": {
   "name": "python"
  }
 },
 "nbformat": 4,
 "nbformat_minor": 0
}
