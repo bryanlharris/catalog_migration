{
  "cells": [
    {
      "cell_type": "markdown",
      "id": "a8796935",
      "metadata": {},
      "source": [
        "# Migrate Catalog Object Permissions\n",
        "This notebook reads all object permissions from a source catalog and generates SQL commands\n",
        "to grant the same privileges on the objects in a destination catalog.\n"
      ]
    },
    {
      "cell_type": "code",
      "execution_count": null,
      "id": "7266530b",
      "metadata": {},
      "outputs": [],
      "source": [
        "\n",
        "%md\n",
        "## Configure Source and Destination Catalogs\n"
      ]
    },
    {
      "cell_type": "code",
      "execution_count": null,
      "id": "7d9324d3",
      "metadata": {},
      "outputs": [],
      "source": [
        "\n",
        "try:\n",
        "    dbutils.widgets.text(\"1.source_catalog\", \"source_catalog\")\n",
        "    dbutils.widgets.text(\"2.destination_catalog\", \"destination_catalog\")\n",
        "    source_catalog = dbutils.widgets.get(\"1.source_catalog\")\n",
        "    destination_catalog = dbutils.widgets.get(\"2.destination_catalog\")\n",
        "except NameError:\n",
        "    # When running as a standard Python script (e.g., for testing), define values here\n",
        "    source_catalog = \"source_catalog\"\n",
        "    destination_catalog = \"destination_catalog\"\n"
      ]
    },
    {
      "cell_type": "code",
      "execution_count": null,
      "id": "015615d7",
      "metadata": {},
      "outputs": [],
      "source": [
        "\n",
        "%md\n",
        "## Read Object Permissions From the Source Catalog\n"
      ]
    },
    {
      "cell_type": "code",
      "execution_count": null,
      "id": "96ed000d",
      "metadata": {},
      "outputs": [],
      "source": [
        "\n",
        "query = f\"\"\"\n",
        "SELECT\n",
        "  object_schema,\n",
        "  object_name,\n",
        "  object_type,\n",
        "  principal,\n",
        "  privilege_type\n",
        "FROM system.information_schema.object_privileges\n",
        "WHERE object_catalog = '{source_catalog}'\n",
        "\"\"\"\n",
        "\n",
        "try:\n",
        "    priv_df = spark.sql(query)\n",
        "except Exception:\n",
        "    fallback_query = f\"\"\"\n",
        "    SELECT\n",
        "      tp.table_schema AS object_schema,\n",
        "      tp.table_name AS object_name,\n",
        "      t.table_type AS object_type,\n",
        "      tp.grantee AS principal,\n",
        "      tp.privilege_type AS privilege_type\n",
        "    FROM system.information_schema.table_privileges tp\n",
        "    LEFT JOIN system.information_schema.tables t\n",
        "      ON tp.table_catalog = t.table_catalog\n",
        "     AND tp.table_schema = t.table_schema\n",
        "     AND tp.table_name = t.table_name\n",
        "    WHERE tp.table_catalog = '{source_catalog}'\n",
        "    UNION ALL\n",
        "    SELECT\n",
        "      volume_schema AS object_schema,\n",
        "      volume_name AS object_name,\n",
        "      'VOLUME' AS object_type,\n",
        "      grantee AS principal,\n",
        "      privilege_type\n",
        "    FROM system.information_schema.volume_privileges\n",
        "    WHERE volume_catalog = '{source_catalog}'\n",
        "    \"\"\"\n",
        "\n",
        "    priv_df = spark.sql(fallback_query)\n",
        "privileges = [\n",
        "    {\n",
        "        \"schema\": row[\"object_schema\"],\n",
        "        \"name\": row[\"object_name\"],\n",
        "        \"type\": row[\"object_type\"],\n",
        "        \"principal\": row[\"principal\"],\n",
        "        \"privilege\": row[\"privilege_type\"],\n",
        "    }\n",
        "    for row in priv_df.collect()\n",
        "]\n"
      ]
    },
    {
      "cell_type": "code",
      "execution_count": null,
      "id": "31183750",
      "metadata": {},
      "outputs": [],
      "source": [
        "\n",
        "%md\n",
        "## Generate GRANT Commands\n"
      ]
    },
    {
      "cell_type": "code",
      "execution_count": null,
      "id": "0f2e806d",
      "metadata": {},
      "outputs": [],
      "source": [
        "\n",
        "grant_cmds = []\n",
        "volume_grant_cmds = []\n",
        "\n",
        "\n",
        "def table_exists(catalog: str, schema: str, table: str) -> bool:\n",
        "    \"\"\"Return True if the table exists in the destination catalog.\"\"\"\n",
        "    try:\n",
        "        result = spark.sql(\n",
        "            f\"SHOW TABLES IN {catalog}.{schema} LIKE '{table}'\"\n",
        "        ).collect()\n",
        "        return len(result) > 0\n",
        "    except Exception:\n",
        "        return False\n",
        "\n",
        "for p in privileges:\n",
        "    if not p[\"type\"] == \"VOLUME\" and not table_exists(destination_catalog, p[\"schema\"], p[\"name\"]):\n",
        "        continue\n",
        "\n",
        "    if p[\"schema\"] == \"information_schema\":\n",
        "        continue\n",
        "\n",
        "    object_identifier = f\"`{destination_catalog}`.`{p['schema']}`.`{p['name']}`\"\n",
        "\n",
        "    if p[\"type\"] == \"VOLUME\":\n",
        "        volume_grant_cmds.append(\n",
        "            f\"GRANT {p['privilege']} ON VOLUME {object_identifier} TO `{p['principal']}`;\"\n",
        "        )\n",
        "    else:\n",
        "        grant_cmds.append(\n",
        "            f\"GRANT {p['privilege']} ON {object_identifier} TO `{p['principal']}`;\"\n",
        "        )\n"
      ]
    },
    {
      "cell_type": "code",
      "execution_count": null,
      "id": "ede556a1",
      "metadata": {},
      "outputs": [],
      "source": [
        "\n",
        "%md\n",
        "## Display GRANT Commands (Non-Volume)\n"
      ]
    },
    {
      "cell_type": "code",
      "execution_count": null,
      "id": "b2e51d30",
      "metadata": {},
      "outputs": [],
      "source": [
        "\n",
        "for cmd in grant_cmds:\n",
        "    print(cmd)\n"
      ]
    },
    {
      "cell_type": "code",
      "execution_count": null,
      "id": "fffa9934",
      "metadata": {},
      "outputs": [],
      "source": [
        "\n",
        "%md\n",
        "## Display GRANT Commands for Volumes\n"
      ]
    },
    {
      "cell_type": "code",
      "execution_count": null,
      "id": "ff987ddd",
      "metadata": {},
      "outputs": [],
      "source": [
        "\n",
        "for cmd in volume_grant_cmds:\n",
        "    print(cmd)"
      ]
    }
  ],
  "metadata": {
    "application/vnd.databricks.v1+notebook": {
      "environmentMetadata": {
        "environment_version": "3"
      }
    }
  },
  "nbformat": 4,
  "nbformat_minor": 5
}
