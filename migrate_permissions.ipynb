{
  "cells": [
    {
      "cell_type": "markdown",
      "id": "a8796935",
      "metadata": {},
      "source": [
        "# Migrate Catalog Object Permissions\n",
        "This notebook reads all object permissions from a source catalog and generates SQL commands\n",
        "to grant the same privileges on the objects in a destination catalog.\n"
      ]
    },
    {
      "cell_type": "code",
      "execution_count": null,
      "id": "7266530b",
      "metadata": {},
      "outputs": [],
      "source": [
        "\n",
        "%md\n",
        "## Configure Source and Destination Catalogs\n"
      ]
    },
    {
      "cell_type": "code",
      "execution_count": null,
      "id": "7d9324d3",
      "metadata": {},
      "outputs": [],
      "source": [
        "\n",
        "try:\n",
        "    dbutils.widgets.text(\"1.source_catalog\", \"source_catalog\")\n",
        "    dbutils.widgets.text(\"2.destination_catalog\", \"destination_catalog\")\n",
        "    source_catalog = dbutils.widgets.get(\"1.source_catalog\")\n",
        "    destination_catalog = dbutils.widgets.get(\"2.destination_catalog\")\n",
        "except NameError:\n",
        "    # When running as a standard Python script (e.g., for testing), define values here\n",
        "    source_catalog = \"source_catalog\"\n",
        "    destination_catalog = \"destination_catalog\"\n"
      ]
    },
    {
      "cell_type": "code",
      "execution_count": null,
      "id": "015615d7",
      "metadata": {},
      "outputs": [],
      "source": [
        "\n",
        "%md\n",
  "## Read Schema and Volume Permissions From the Source Catalog\n"
      ]
    },
    {
      "cell_type": "code",
      "execution_count": null,
      "id": "96ed000d",
      "metadata": {},
      "outputs": [],
      "source": [
  "\n",
  "schema_query = f\"\"\"\n",
  "SELECT\n",
  "  schema_name,\n",
  "  grantee,\n",
  "  privilege_type\n",
  "FROM system.information_schema.schema_privileges\n",
  "WHERE catalog_name = '{source_catalog}'\n",
  "\"\"\"\n",
  "\n",
  "volume_query = f\"\"\"\n",
  "SELECT\n",
  "  volume_schema,\n",
  "  volume_name,\n",
  "  grantee,\n",
  "  privilege_type\n",
  "FROM system.information_schema.volume_privileges\n",
  "WHERE volume_catalog = '{source_catalog}'\n",
  "\"\"\"\n",
  "\n",
  "schema_df = spark.sql(schema_query)\n",
  "volume_df = spark.sql(volume_query)\n",
  "\n",
  "privileges = [\n",
  "    {\n",
  "        \"schema\": row[\"schema_name\"],\n",
  "        \"type\": \"SCHEMA\",\n",
  "        \"principal\": row[\"grantee\"],\n",
  "        \"privilege\": row[\"privilege_type\"],\n",
  "    }\n",
  "    for row in schema_df.collect()\n",
  "] + [\n",
  "    {\n",
  "        \"schema\": row[\"volume_schema\"],\n",
  "        \"name\": row[\"volume_name\"],\n",
  "        \"type\": \"VOLUME\",\n",
  "        \"principal\": row[\"grantee\"],\n",
  "        \"privilege\": row[\"privilege_type\"],\n",
  "    }\n",
  "    for row in volume_df.collect()\n",
  "]\n"
      ]
    },
    {
      "cell_type": "code",
      "execution_count": null,
      "id": "31183750",
      "metadata": {},
      "outputs": [],
      "source": [
        "\n",
        "%md\n",
        "## Generate GRANT Commands\n"
      ]
    },
    {
      "cell_type": "code",
      "execution_count": null,
      "id": "0f2e806d",
      "metadata": {},
      "outputs": [],
      "source": [
  "\n",
  "grant_cmds = []\n",
  "volume_grant_cmds = []\n",
  "\n",
  "for p in privileges:\n",
  "    if p[\"type\"] == \"VOLUME\":\n",
  "        object_identifier = f\"`{destination_catalog}`.`{p['schema']}`.`{p['name']}`\"\n",
  "        volume_grant_cmds.append(\n",
  "            f\"GRANT {p['privilege']} ON VOLUME {object_identifier} TO `{p['principal']}`;\"\n",
  "        )\n",
  "    else:\n",
  "        if p[\"schema\"] == \"information_schema\":\n",
  "            continue\n",
  "        object_identifier = f\"`{destination_catalog}`.`{p['schema']}`\"\n",
  "        grant_cmds.append(\n",
  "            f\"GRANT {p['privilege']} ON SCHEMA {object_identifier} TO `{p['principal']}`;\"\n",
  "        )\n"
      ]
    },
    {
      "cell_type": "code",
      "execution_count": null,
      "id": "ede556a1",
      "metadata": {},
      "outputs": [],
      "source": [
        "\n",
        "%md\n",
        "## Display GRANT Commands (Non-Volume)\n"
      ]
    },
    {
      "cell_type": "code",
      "execution_count": null,
      "id": "b2e51d30",
      "metadata": {},
      "outputs": [],
      "source": [
        "\n",
        "for cmd in grant_cmds:\n",
        "    print(cmd)\n"
      ]
    },
    {
      "cell_type": "code",
      "execution_count": null,
      "id": "fffa9934",
      "metadata": {},
      "outputs": [],
      "source": [
        "\n",
        "%md\n",
        "## Display GRANT Commands for Volumes\n"
      ]
    },
    {
      "cell_type": "code",
      "execution_count": null,
      "id": "ff987ddd",
      "metadata": {},
      "outputs": [],
      "source": [
        "\n",
        "for cmd in volume_grant_cmds:\n",
        "    print(cmd)"
      ]
    }
  ],
  "metadata": {
    "application/vnd.databricks.v1+notebook": {
      "environmentMetadata": {
        "environment_version": "3"
      }
    }
  },
  "nbformat": 4,
  "nbformat_minor": 5
}