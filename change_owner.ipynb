{
 "cells": [
  {
   "cell_type": "markdown",
   "id": "2a49ea17",
   "metadata": {},
   "source": [
    "# Change Catalog Object Owners\n",
    "This notebook uses [DiscoverX](https://github.com/databrickslabs/discoverx) to change the owner of every object in a catalog.\n",
    "\n",
    "Provide the catalog and the new owner below, then run all cells."
   ]
  },
  {
   "cell_type": "code",
   "execution_count": null,
   "id": "5c1e854d",
   "metadata": {},
   "outputs": [],
   "source": [
    "%pip install dbl-discoverx\n",
    "dbutils.library.restartPython()\n"
   ]
  },
  {
   "cell_type": "markdown",
   "id": "4d837d44",
   "metadata": {},
   "source": [
    "## Configure Catalog and New Owner"
   ]
  },
  {
   "cell_type": "code",
   "execution_count": null,
   "id": "2fe6d42f",
   "metadata": {},
   "outputs": [],
   "source": [
    "\n",
    "# Widgets for user input\n",
    "try:\n",
    "    dbutils.widgets.text(\"1.catalog\", \"catalog\")\n",
    "    dbutils.widgets.text(\"2.new_owner\", \"account users\")\n",
    "    catalog = dbutils.widgets.get(\"1.catalog\")\n",
    "    new_owner = dbutils.widgets.get(\"2.new_owner\")\n",
    "except NameError:\n",
    "    # When running as a Python script\n",
    "    catalog = \"source_catalog\"\n",
    "    new_owner = \"account users\"\n"
   ]
  },
  {
   "cell_type": "markdown",
   "id": "daf4645d",
   "metadata": {},
   "source": [
    "## Change Schema Owners"
   ]
  },
  {
   "cell_type": "code",
   "execution_count": null,
   "id": "9e451daf",
   "metadata": {},
   "outputs": [],
   "source": [
    "schemas_df = spark.sql(f\"SHOW SCHEMAS IN `{catalog}`\")\n",
    "for row in schemas_df.collect():\n",
    "    schema = row[0]\n",
    "    if schema.lower() in (\"information_schema\",):\n",
    "        continue\n",
    "    print(f\"Changing owner of object `{catalog}`.`{schema}` to `{new_owner}`\")\n",
    "    spark.sql(f\"ALTER SCHEMA `{catalog}`.`{schema}` OWNER TO `{new_owner}`\")"
   ]
  },
  {
   "cell_type": "markdown",
   "id": "58eb0ce5",
   "metadata": {},
   "source": [
    "## Change Table Owners using DiscoverX"
   ]
  },
  {
   "cell_type": "code",
   "execution_count": null,
   "id": "443bf2b5",
   "metadata": {},
   "outputs": [],
   "source": [
    "from discoverx import DX\n",
    "\n",
    "dx = DX()\n",
    "\n",
    "def set_table_owner(tbl_info):\n",
    "    if tbl_info.schema.lower() in (\"information_schema\",):\n",
    "        return {\n",
    "            \"table\": f\"`{tbl_info.catalog}`.`{tbl_info.schema}`.`{tbl_info.table}`\",\n",
    "            \"success\": True,\n",
    "            \"info\": \"skipped system schema\",\n",
    "        }\n",
    "    try:\n",
    "        print(f\"Changing owner of object `{tbl_info.catalog}`.`{tbl_info.schema}`.`{tbl_info.table}` to `{new_owner}`\")\n",
    "        spark.sql(\n",
    "            f\"ALTER TABLE `{tbl_info.catalog}`.`{tbl_info.schema}`.`{tbl_info.table}` OWNER TO `{new_owner}`\"\n",
    "        )\n",
    "        return {\n",
    "            \"table\": f\"`{tbl_info.catalog}`.`{tbl_info.schema}`.`{tbl_info.table}`\",\n",
    "            \"success\": True,\n",
    "            \"info\": None,\n",
    "        }\n",
    "    except Exception as err:\n",
    "        return {\n",
    "            \"table\": f\"`{tbl_info.catalog}`.`{tbl_info.schema}`.`{tbl_info.table}`\",\n",
    "            \"success\": False,\n",
    "            \"info\": str(err),\n",
    "        }\n",
    "\n",
    "results = dx.from_tables(f\"{catalog}.*.*\").map(set_table_owner)"
   ]
  },
  {
   "cell_type": "markdown",
   "id": "bdfe330a",
   "metadata": {},
   "source": [
    "## Change Volume Owners"
   ]
  },
  {
   "cell_type": "code",
   "execution_count": null,
   "id": "37e50749",
   "metadata": {},
   "outputs": [],
   "source": [
    "volume_df = spark.sql(f\"\"\"\n",
    "SELECT volume_schema, volume_name\n",
    "FROM system.information_schema.volumes\n",
    "WHERE volume_catalog = '{catalog}'\n",
    "\"\"\")\n",
    "for row in volume_df.collect():\n",
    "    if row.volume_schema.lower() in (\"information_schema\",):\n",
    "        continue\n",
    "    print(f\"Changing owner of object `{catalog}`.`{row.volume_schema}`.`{row.volume_name}` to `{new_owner}`\")\n",
    "    spark.sql(\n",
    "        f\"ALTER VOLUME `{catalog}`.`{row.volume_schema}`.`{row.volume_name}` OWNER TO `{new_owner}`\"\n",
    "    )"
   ]
  },
  {
   "cell_type": "markdown",
   "id": "79466134",
   "metadata": {},
   "source": [
    "## Change Function Owners"
   ]
  },
  {
   "cell_type": "code",
   "execution_count": null,
   "id": "971882f4",
   "metadata": {},
   "outputs": [],
   "source": [
    "func_df = spark.sql(f\"\"\"\n",
    "SELECT routine_schema, routine_name\n",
    "FROM system.information_schema.routines\n",
    "WHERE routine_catalog = '{catalog}'\n",
    "\"\"\")\n",
    "for row in func_df.collect():\n",
    "    if row.routine_schema.lower() in (\"information_schema\",):\n",
    "        continue\n",
    "    print(f\"Changing owner of object `{catalog}`.`{row.routine_schema}`.`{row.routine_name}` to `{new_owner}`\")\n",
    "    spark.sql(\n",
    "        f\"ALTER FUNCTION `{catalog}`.`{row.routine_schema}`.`{row.routine_name}` OWNER TO `{new_owner}`\"\n",
    "    )"
   ]
  },
  {
   "cell_type": "markdown",
   "id": "e758485c",
   "metadata": {},
   "source": [
    "## Results"
   ]
  },
  {
   "cell_type": "code",
   "execution_count": null,
   "id": "dac3d35f",
   "metadata": {},
   "outputs": [],
   "source": [
    "import json\n",
    "for item in results:\n",
    "    print(json.dumps(item, indent=4))"
   ]
  }
 ],
 "metadata": {
  "application/vnd.databricks.v1+notebook": {
   "environmentMetadata": {
    "environment_version": "3"
   }
  }
 },
 "nbformat": 4,
 "nbformat_minor": 5
}
